{
 "cells": [
  {
   "cell_type": "markdown",
   "id": "feac8535-a7d1-479d-bb81-f5a69eb92c07",
   "metadata": {},
   "source": [
    "### Board Game Anlysis\n",
    "\n",
    "I have created this Board game analysis for two reasons\n",
    "* I love board games and would like to explore this data\n",
    "* I would like to show what I know!\n",
    "\n",
    "I pulled this dataset off Kaggle. Orginally the data was pulled from boardgamegeek."
   ]
  },
  {
   "cell_type": "code",
   "execution_count": 90,
   "id": "55b95f15-8c58-4ea4-b226-5c6df73c7b24",
   "metadata": {},
   "outputs": [],
   "source": [
    "#Imports\n",
    "import numpy as np\n",
    "import pandas as pd\n",
    "import csv\n",
    "import matplotlib\n",
    "import re\n",
    "from collections import Counter\n",
    "from sklearn.metrics import confusion_matrix\n",
    "from sklearn.metrics import accuracy_score, f1_score\n",
    "from sklearn.metrics import precision_score, recall_score\n",
    "from sklearn.model_selection import train_test_split\n",
    "from sklearn.preprocessing import StandardScaler\n",
    "from sklearn.pipeline import Pipeline\n",
    "from sklearn.tree import DecisionTreeRegressor\n",
    "from sklearn.ensemble import RandomForestRegressor\n",
    "from sklearn.linear_model import LinearRegression\n",
    "from sklearn.neighbors import KNeighborsRegressor\n",
    "from sklearn.model_selection import cross_val_score\n",
    "from sklearn.model_selection import GridSearchCV\n",
    "from sklearn.metrics import mean_squared_error\n",
    "from sklearn import metrics"
   ]
  },
  {
   "cell_type": "code",
   "execution_count": 70,
   "id": "b45bd8b1-eb2d-4be4-acdf-ac8bbb0278d6",
   "metadata": {},
   "outputs": [
    {
     "data": {
      "text/html": [
       "<div>\n",
       "<style scoped>\n",
       "    .dataframe tbody tr th:only-of-type {\n",
       "        vertical-align: middle;\n",
       "    }\n",
       "\n",
       "    .dataframe tbody tr th {\n",
       "        vertical-align: top;\n",
       "    }\n",
       "\n",
       "    .dataframe thead th {\n",
       "        text-align: right;\n",
       "    }\n",
       "</style>\n",
       "<table border=\"1\" class=\"dataframe\">\n",
       "  <thead>\n",
       "    <tr style=\"text-align: right;\">\n",
       "      <th></th>\n",
       "      <th>ID</th>\n",
       "      <th>Name</th>\n",
       "      <th>Year Published</th>\n",
       "      <th>Min Players</th>\n",
       "      <th>Max Players</th>\n",
       "      <th>Play Time</th>\n",
       "      <th>Min Age</th>\n",
       "      <th>Users Rated</th>\n",
       "      <th>Rating Average</th>\n",
       "      <th>BGG Rank</th>\n",
       "      <th>Complexity Average</th>\n",
       "      <th>Owned Users</th>\n",
       "      <th>Mechanics</th>\n",
       "      <th>Domains</th>\n",
       "    </tr>\n",
       "  </thead>\n",
       "  <tbody>\n",
       "    <tr>\n",
       "      <th>0</th>\n",
       "      <td>174430.0</td>\n",
       "      <td>Gloomhaven</td>\n",
       "      <td>2017.0</td>\n",
       "      <td>1</td>\n",
       "      <td>4</td>\n",
       "      <td>120</td>\n",
       "      <td>14</td>\n",
       "      <td>42055</td>\n",
       "      <td>8,79</td>\n",
       "      <td>1</td>\n",
       "      <td>3,86</td>\n",
       "      <td>68323.0</td>\n",
       "      <td>Action Queue, Action Retrieval, Campaign / Bat...</td>\n",
       "      <td>Strategy Games, Thematic Games</td>\n",
       "    </tr>\n",
       "    <tr>\n",
       "      <th>1</th>\n",
       "      <td>161936.0</td>\n",
       "      <td>Pandemic Legacy: Season 1</td>\n",
       "      <td>2015.0</td>\n",
       "      <td>2</td>\n",
       "      <td>4</td>\n",
       "      <td>60</td>\n",
       "      <td>13</td>\n",
       "      <td>41643</td>\n",
       "      <td>8,61</td>\n",
       "      <td>2</td>\n",
       "      <td>2,84</td>\n",
       "      <td>65294.0</td>\n",
       "      <td>Action Points, Cooperative Game, Hand Manageme...</td>\n",
       "      <td>Strategy Games, Thematic Games</td>\n",
       "    </tr>\n",
       "    <tr>\n",
       "      <th>2</th>\n",
       "      <td>224517.0</td>\n",
       "      <td>Brass: Birmingham</td>\n",
       "      <td>2018.0</td>\n",
       "      <td>2</td>\n",
       "      <td>4</td>\n",
       "      <td>120</td>\n",
       "      <td>14</td>\n",
       "      <td>19217</td>\n",
       "      <td>8,66</td>\n",
       "      <td>3</td>\n",
       "      <td>3,91</td>\n",
       "      <td>28785.0</td>\n",
       "      <td>Hand Management, Income, Loans, Market, Networ...</td>\n",
       "      <td>Strategy Games</td>\n",
       "    </tr>\n",
       "    <tr>\n",
       "      <th>3</th>\n",
       "      <td>167791.0</td>\n",
       "      <td>Terraforming Mars</td>\n",
       "      <td>2016.0</td>\n",
       "      <td>1</td>\n",
       "      <td>5</td>\n",
       "      <td>120</td>\n",
       "      <td>12</td>\n",
       "      <td>64864</td>\n",
       "      <td>8,43</td>\n",
       "      <td>4</td>\n",
       "      <td>3,24</td>\n",
       "      <td>87099.0</td>\n",
       "      <td>Card Drafting, Drafting, End Game Bonuses, Han...</td>\n",
       "      <td>Strategy Games</td>\n",
       "    </tr>\n",
       "    <tr>\n",
       "      <th>4</th>\n",
       "      <td>233078.0</td>\n",
       "      <td>Twilight Imperium: Fourth Edition</td>\n",
       "      <td>2017.0</td>\n",
       "      <td>3</td>\n",
       "      <td>6</td>\n",
       "      <td>480</td>\n",
       "      <td>14</td>\n",
       "      <td>13468</td>\n",
       "      <td>8,70</td>\n",
       "      <td>5</td>\n",
       "      <td>4,22</td>\n",
       "      <td>16831.0</td>\n",
       "      <td>Action Drafting, Area Majority / Influence, Ar...</td>\n",
       "      <td>Strategy Games, Thematic Games</td>\n",
       "    </tr>\n",
       "  </tbody>\n",
       "</table>\n",
       "</div>"
      ],
      "text/plain": [
       "         ID                               Name  Year Published  Min Players  \\\n",
       "0  174430.0                         Gloomhaven          2017.0            1   \n",
       "1  161936.0          Pandemic Legacy: Season 1          2015.0            2   \n",
       "2  224517.0                  Brass: Birmingham          2018.0            2   \n",
       "3  167791.0                  Terraforming Mars          2016.0            1   \n",
       "4  233078.0  Twilight Imperium: Fourth Edition          2017.0            3   \n",
       "\n",
       "   Max Players  Play Time  Min Age  Users Rated Rating Average  BGG Rank  \\\n",
       "0            4        120       14        42055           8,79         1   \n",
       "1            4         60       13        41643           8,61         2   \n",
       "2            4        120       14        19217           8,66         3   \n",
       "3            5        120       12        64864           8,43         4   \n",
       "4            6        480       14        13468           8,70         5   \n",
       "\n",
       "  Complexity Average  Owned Users  \\\n",
       "0               3,86      68323.0   \n",
       "1               2,84      65294.0   \n",
       "2               3,91      28785.0   \n",
       "3               3,24      87099.0   \n",
       "4               4,22      16831.0   \n",
       "\n",
       "                                           Mechanics  \\\n",
       "0  Action Queue, Action Retrieval, Campaign / Bat...   \n",
       "1  Action Points, Cooperative Game, Hand Manageme...   \n",
       "2  Hand Management, Income, Loans, Market, Networ...   \n",
       "3  Card Drafting, Drafting, End Game Bonuses, Han...   \n",
       "4  Action Drafting, Area Majority / Influence, Ar...   \n",
       "\n",
       "                          Domains  \n",
       "0  Strategy Games, Thematic Games  \n",
       "1  Strategy Games, Thematic Games  \n",
       "2                  Strategy Games  \n",
       "3                  Strategy Games  \n",
       "4  Strategy Games, Thematic Games  "
      ]
     },
     "execution_count": 70,
     "metadata": {},
     "output_type": "execute_result"
    }
   ],
   "source": [
    "#Read in CSV file\n",
    "Games=pd.read_csv(\"bgg_dataset.csv\", sep=\";\")\n",
    "#First 5 rows\n",
    "Games.head(5)"
   ]
  },
  {
   "cell_type": "code",
   "execution_count": 71,
   "id": "397ac46f-a04b-456a-9210-12676ca32076",
   "metadata": {},
   "outputs": [
    {
     "name": "stdout",
     "output_type": "stream",
     "text": [
      "20343 rows in the dataset.\n"
     ]
    }
   ],
   "source": [
    "#How much data do we have?\n",
    "print(len(Games), \"rows in the dataset.\")"
   ]
  },
  {
   "cell_type": "code",
   "execution_count": 72,
   "id": "4b525fed-9111-4a74-817b-dc1a3ed03577",
   "metadata": {},
   "outputs": [
    {
     "name": "stdout",
     "output_type": "stream",
     "text": [
      "<class 'pandas.core.frame.DataFrame'>\n",
      "RangeIndex: 20343 entries, 0 to 20342\n",
      "Data columns (total 14 columns):\n",
      " #   Column              Non-Null Count  Dtype  \n",
      "---  ------              --------------  -----  \n",
      " 0   ID                  20327 non-null  float64\n",
      " 1   Name                20343 non-null  object \n",
      " 2   Year Published      20342 non-null  float64\n",
      " 3   Min Players         20343 non-null  int64  \n",
      " 4   Max Players         20343 non-null  int64  \n",
      " 5   Play Time           20343 non-null  int64  \n",
      " 6   Min Age             20343 non-null  int64  \n",
      " 7   Users Rated         20343 non-null  int64  \n",
      " 8   Rating Average      20343 non-null  object \n",
      " 9   BGG Rank            20343 non-null  int64  \n",
      " 10  Complexity Average  20343 non-null  object \n",
      " 11  Owned Users         20320 non-null  float64\n",
      " 12  Mechanics           18745 non-null  object \n",
      " 13  Domains             10184 non-null  object \n",
      "dtypes: float64(3), int64(6), object(5)\n",
      "memory usage: 2.2+ MB\n"
     ]
    }
   ],
   "source": [
    "#Look if there is missing data\n",
    "Games.info()"
   ]
  },
  {
   "cell_type": "markdown",
   "id": "04de11c2-7a29-4495-b709-037d5a003640",
   "metadata": {},
   "source": [
    "It looks like we may have some missing values in our ID. This could be expansions to games. Rating and complexity averages are not rerestiring as numbers. If you look back at the head you can see it is comma seperated so this will need to be fixed. I am also going to drop the owned users data thats missing. These would be games no one has access to yet. These maybe fun to test towards the end of our analysis to see if we can predict their ratings based off mechanics or other vairables."
   ]
  },
  {
   "cell_type": "markdown",
   "id": "1259c159-a8f1-4e46-b030-4060fc79b9e4",
   "metadata": {},
   "source": [
    "### Data Cleaning"
   ]
  },
  {
   "cell_type": "code",
   "execution_count": 73,
   "id": "13a09646-30ab-4108-a298-cb4e011dd3eb",
   "metadata": {},
   "outputs": [],
   "source": [
    "# Create a function to fix comma data for Rating and Complexity\n",
    "def commaremoval(data):\n",
    "    Newlist=[]\n",
    "    for i in data:\n",
    "        i = i.replace(\",\",\".\")\n",
    "        Newlist.append(i)\n",
    "    return Newlist\n",
    "Games[\"Rating Average\"] = pd.to_numeric(commaremoval(Games[\"Rating Average\"]))\n",
    "Games[\"Complexity Average\"] = pd.to_numeric(commaremoval(Games[\"Complexity Average\"]))"
   ]
  },
  {
   "cell_type": "code",
   "execution_count": 74,
   "id": "dc618e7b-aca4-43e5-9d85-f06a71dd0409",
   "metadata": {},
   "outputs": [],
   "source": [
    "#Drop Games with no owners\n",
    "Games=Games[Games[\"Owned Users\"].notna()]"
   ]
  },
  {
   "cell_type": "code",
   "execution_count": 75,
   "id": "88bc3613-3f57-42fb-a5a8-e4432ba0988f",
   "metadata": {},
   "outputs": [],
   "source": [
    "#Change all / to , for easier seperation\n",
    "Games[\"Mechanics\"] = Games[\"Mechanics\"].str.replace(\"/\",\",\")\n",
    "Games[\"Domains\"] = Games[\"Domains\"].str.replace(\"/\",\",\")"
   ]
  },
  {
   "cell_type": "code",
   "execution_count": 76,
   "id": "79678165-3b39-4f64-b5ce-f6f090abc777",
   "metadata": {},
   "outputs": [
    {
     "data": {
      "text/html": [
       "<div>\n",
       "<style scoped>\n",
       "    .dataframe tbody tr th:only-of-type {\n",
       "        vertical-align: middle;\n",
       "    }\n",
       "\n",
       "    .dataframe tbody tr th {\n",
       "        vertical-align: top;\n",
       "    }\n",
       "\n",
       "    .dataframe thead th {\n",
       "        text-align: right;\n",
       "    }\n",
       "</style>\n",
       "<table border=\"1\" class=\"dataframe\">\n",
       "  <thead>\n",
       "    <tr style=\"text-align: right;\">\n",
       "      <th></th>\n",
       "      <th>ID</th>\n",
       "      <th>Name</th>\n",
       "      <th>Year Published</th>\n",
       "      <th>Min Players</th>\n",
       "      <th>Max Players</th>\n",
       "      <th>Play Time</th>\n",
       "      <th>Min Age</th>\n",
       "      <th>Users Rated</th>\n",
       "      <th>Rating Average</th>\n",
       "      <th>BGG Rank</th>\n",
       "      <th>Complexity Average</th>\n",
       "      <th>Owned Users</th>\n",
       "      <th>Mechanics</th>\n",
       "      <th>Domains</th>\n",
       "    </tr>\n",
       "  </thead>\n",
       "  <tbody>\n",
       "    <tr>\n",
       "      <th>0</th>\n",
       "      <td>174430.0</td>\n",
       "      <td>Gloomhaven</td>\n",
       "      <td>2017.0</td>\n",
       "      <td>1</td>\n",
       "      <td>4</td>\n",
       "      <td>120</td>\n",
       "      <td>14</td>\n",
       "      <td>42055</td>\n",
       "      <td>8.79</td>\n",
       "      <td>1</td>\n",
       "      <td>3.86</td>\n",
       "      <td>68323.0</td>\n",
       "      <td>Action Queue, Action Retrieval, Campaign , Bat...</td>\n",
       "      <td>Strategy Games, Thematic Games</td>\n",
       "    </tr>\n",
       "    <tr>\n",
       "      <th>1</th>\n",
       "      <td>161936.0</td>\n",
       "      <td>Pandemic Legacy: Season 1</td>\n",
       "      <td>2015.0</td>\n",
       "      <td>2</td>\n",
       "      <td>4</td>\n",
       "      <td>60</td>\n",
       "      <td>13</td>\n",
       "      <td>41643</td>\n",
       "      <td>8.61</td>\n",
       "      <td>2</td>\n",
       "      <td>2.84</td>\n",
       "      <td>65294.0</td>\n",
       "      <td>Action Points, Cooperative Game, Hand Manageme...</td>\n",
       "      <td>Strategy Games, Thematic Games</td>\n",
       "    </tr>\n",
       "    <tr>\n",
       "      <th>2</th>\n",
       "      <td>224517.0</td>\n",
       "      <td>Brass: Birmingham</td>\n",
       "      <td>2018.0</td>\n",
       "      <td>2</td>\n",
       "      <td>4</td>\n",
       "      <td>120</td>\n",
       "      <td>14</td>\n",
       "      <td>19217</td>\n",
       "      <td>8.66</td>\n",
       "      <td>3</td>\n",
       "      <td>3.91</td>\n",
       "      <td>28785.0</td>\n",
       "      <td>Hand Management, Income, Loans, Market, Networ...</td>\n",
       "      <td>Strategy Games</td>\n",
       "    </tr>\n",
       "    <tr>\n",
       "      <th>3</th>\n",
       "      <td>167791.0</td>\n",
       "      <td>Terraforming Mars</td>\n",
       "      <td>2016.0</td>\n",
       "      <td>1</td>\n",
       "      <td>5</td>\n",
       "      <td>120</td>\n",
       "      <td>12</td>\n",
       "      <td>64864</td>\n",
       "      <td>8.43</td>\n",
       "      <td>4</td>\n",
       "      <td>3.24</td>\n",
       "      <td>87099.0</td>\n",
       "      <td>Card Drafting, Drafting, End Game Bonuses, Han...</td>\n",
       "      <td>Strategy Games</td>\n",
       "    </tr>\n",
       "    <tr>\n",
       "      <th>4</th>\n",
       "      <td>233078.0</td>\n",
       "      <td>Twilight Imperium: Fourth Edition</td>\n",
       "      <td>2017.0</td>\n",
       "      <td>3</td>\n",
       "      <td>6</td>\n",
       "      <td>480</td>\n",
       "      <td>14</td>\n",
       "      <td>13468</td>\n",
       "      <td>8.70</td>\n",
       "      <td>5</td>\n",
       "      <td>4.22</td>\n",
       "      <td>16831.0</td>\n",
       "      <td>Action Drafting, Area Majority , Influence, Ar...</td>\n",
       "      <td>Strategy Games, Thematic Games</td>\n",
       "    </tr>\n",
       "  </tbody>\n",
       "</table>\n",
       "</div>"
      ],
      "text/plain": [
       "         ID                               Name  Year Published  Min Players  \\\n",
       "0  174430.0                         Gloomhaven          2017.0            1   \n",
       "1  161936.0          Pandemic Legacy: Season 1          2015.0            2   \n",
       "2  224517.0                  Brass: Birmingham          2018.0            2   \n",
       "3  167791.0                  Terraforming Mars          2016.0            1   \n",
       "4  233078.0  Twilight Imperium: Fourth Edition          2017.0            3   \n",
       "\n",
       "   Max Players  Play Time  Min Age  Users Rated  Rating Average  BGG Rank  \\\n",
       "0            4        120       14        42055            8.79         1   \n",
       "1            4         60       13        41643            8.61         2   \n",
       "2            4        120       14        19217            8.66         3   \n",
       "3            5        120       12        64864            8.43         4   \n",
       "4            6        480       14        13468            8.70         5   \n",
       "\n",
       "   Complexity Average  Owned Users  \\\n",
       "0                3.86      68323.0   \n",
       "1                2.84      65294.0   \n",
       "2                3.91      28785.0   \n",
       "3                3.24      87099.0   \n",
       "4                4.22      16831.0   \n",
       "\n",
       "                                           Mechanics  \\\n",
       "0  Action Queue, Action Retrieval, Campaign , Bat...   \n",
       "1  Action Points, Cooperative Game, Hand Manageme...   \n",
       "2  Hand Management, Income, Loans, Market, Networ...   \n",
       "3  Card Drafting, Drafting, End Game Bonuses, Han...   \n",
       "4  Action Drafting, Area Majority , Influence, Ar...   \n",
       "\n",
       "                          Domains  \n",
       "0  Strategy Games, Thematic Games  \n",
       "1  Strategy Games, Thematic Games  \n",
       "2                  Strategy Games  \n",
       "3                  Strategy Games  \n",
       "4  Strategy Games, Thematic Games  "
      ]
     },
     "execution_count": 76,
     "metadata": {},
     "output_type": "execute_result"
    }
   ],
   "source": [
    "#Checking Data Again\n",
    "Games.head(5)"
   ]
  },
  {
   "cell_type": "markdown",
   "id": "5a224be4-586e-418b-b0c0-fc0b11c47dc8",
   "metadata": {},
   "source": [
    "We now have a nice list of 20320 Games to look at! Lets continue to break down the Mechanics and Domains in to usable data for Scikit. I will use One Hot Encoding."
   ]
  },
  {
   "cell_type": "code",
   "execution_count": 77,
   "id": "6c4afcd0-36f2-4857-aecc-7ebeb39b75c8",
   "metadata": {},
   "outputs": [
    {
     "name": "stderr",
     "output_type": "stream",
     "text": [
      "C:\\Users\\zdavl\\AppData\\Local\\Temp\\ipykernel_21448\\67978906.py:2: FutureWarning: In a future version of pandas all arguments of DataFrame.drop except for the argument 'labels' will be keyword-only.\n",
      "  GamesOHEM = pd.concat([Games.drop('Mechanics', 1), Games['Mechanics'].str.get_dummies(sep=\",\")], 1)\n",
      "C:\\Users\\zdavl\\AppData\\Local\\Temp\\ipykernel_21448\\67978906.py:2: FutureWarning: In a future version of pandas all arguments of concat except for the argument 'objs' will be keyword-only.\n",
      "  GamesOHEM = pd.concat([Games.drop('Mechanics', 1), Games['Mechanics'].str.get_dummies(sep=\",\")], 1)\n",
      "C:\\Users\\zdavl\\AppData\\Local\\Temp\\ipykernel_21448\\67978906.py:4: FutureWarning: In a future version of pandas all arguments of DataFrame.drop except for the argument 'labels' will be keyword-only.\n",
      "  GamesOHED=pd.concat([Games.drop('Domains', 1), Games['Domains'].str.get_dummies(sep=\",\")], 1)\n",
      "C:\\Users\\zdavl\\AppData\\Local\\Temp\\ipykernel_21448\\67978906.py:4: FutureWarning: In a future version of pandas all arguments of concat except for the argument 'objs' will be keyword-only.\n",
      "  GamesOHED=pd.concat([Games.drop('Domains', 1), Games['Domains'].str.get_dummies(sep=\",\")], 1)\n"
     ]
    }
   ],
   "source": [
    "#One Hot Encode Mechanics\n",
    "GamesOHEM = pd.concat([Games.drop('Mechanics', 1), Games['Mechanics'].str.get_dummies(sep=\",\")], 1)\n",
    "#One Hot Encode Domains\n",
    "GamesOHED=pd.concat([Games.drop('Domains', 1), Games['Domains'].str.get_dummies(sep=\",\")], 1)\n",
    "#Join tables\n",
    "GamesF = pd.concat([GamesOHEM, GamesOHED], axis=1)"
   ]
  },
  {
   "cell_type": "markdown",
   "id": "fd293b2c-90ce-43b0-af49-00aa4bce07e1",
   "metadata": {
    "tags": []
   },
   "source": [
    "### Data Analyzation\n",
    "Questions I want to Answer\n",
    "\n",
    "* Averages for players, play time,etc. \n",
    "* What Mechanics seem to be the most popular?\n",
    "* What Mechanics seem to correlate to the highest scores?\n",
    "* Can we create a model to predict success of a game?"
   ]
  },
  {
   "cell_type": "code",
   "execution_count": null,
   "id": "5e567426-ffb9-47a7-be59-35bcf5afd652",
   "metadata": {},
   "outputs": [],
   "source": [
    "#Averages"
   ]
  },
  {
   "cell_type": "code",
   "execution_count": null,
   "id": "c17f67cf-b7b4-4f2a-84f7-a5f63519b870",
   "metadata": {},
   "outputs": [],
   "source": [
    "#Mechanics Popular and High Scoring"
   ]
  },
  {
   "cell_type": "markdown",
   "id": "1cd4ebd9-2a24-4196-b866-112b6e6b079e",
   "metadata": {},
   "source": [
    "### Model Creation"
   ]
  },
  {
   "cell_type": "code",
   "execution_count": 79,
   "id": "a858aa69-a65b-48c6-adcd-7d521566e795",
   "metadata": {},
   "outputs": [
    {
     "name": "stdout",
     "output_type": "stream",
     "text": [
      "Train size:  16256 Test size:  4064\n"
     ]
    }
   ],
   "source": [
    "#Split Train and Test sets\n",
    "train_set, test_set = train_test_split(GamesF, \n",
    "                        test_size=0.2, random_state=123)\n",
    "print('Train size: ', len(train_set), 'Test size: ', len(test_set))"
   ]
  },
  {
   "cell_type": "code",
   "execution_count": null,
   "id": "50c9536e-59ef-4c67-8956-c02704ceca38",
   "metadata": {},
   "outputs": [],
   "source": [
    "# Linear Regression Model"
   ]
  },
  {
   "cell_type": "code",
   "execution_count": null,
   "id": "11d9edf3-5cbc-4546-98ae-541e4a97202c",
   "metadata": {},
   "outputs": [],
   "source": [
    "# Decision Tree Regressor"
   ]
  },
  {
   "cell_type": "code",
   "execution_count": null,
   "id": "3570e0df-73ea-4c0b-bbc8-d37bc5ba09e5",
   "metadata": {},
   "outputs": [],
   "source": [
    "# Random Forrest Regressor"
   ]
  }
 ],
 "metadata": {
  "kernelspec": {
   "display_name": "Python 3 (ipykernel)",
   "language": "python",
   "name": "python3"
  },
  "language_info": {
   "codemirror_mode": {
    "name": "ipython",
    "version": 3
   },
   "file_extension": ".py",
   "mimetype": "text/x-python",
   "name": "python",
   "nbconvert_exporter": "python",
   "pygments_lexer": "ipython3",
   "version": "3.9.16"
  }
 },
 "nbformat": 4,
 "nbformat_minor": 5
}
