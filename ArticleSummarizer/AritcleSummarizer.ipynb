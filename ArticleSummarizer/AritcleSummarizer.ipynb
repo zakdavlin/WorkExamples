{
 "cells": [
  {
   "cell_type": "markdown",
   "id": "e77b4c4f-f593-4eef-8f8b-9c47cf7ad142",
   "metadata": {},
   "source": [
    "### Article Summarizer\n",
    "Use this application to find the sentences that contain the most used words. The program will need some edits depending on how the HTML document Identifies the body of the article. You could change the Pickle file to be generic if you would like to use it on other documents!"
   ]
  },
  {
   "cell_type": "markdown",
   "id": "b94abe89-00e8-4cb4-bca5-f1ba5649ff60",
   "metadata": {},
   "source": [
    "### Import Article"
   ]
  },
  {
   "cell_type": "code",
   "execution_count": 5,
   "id": "7a5f59d1-9804-48d2-8b35-71220d2181f6",
   "metadata": {},
   "outputs": [],
   "source": [
    "import requests\n",
    "import pickle\n",
    "r=requests.get('https://draftsim.com/mtg-30th-anniversary-edition/')\n",
    "with open('MTGBlog.pkl','wb') as f:\n",
    "    pickle.dump(r.text,f)"
   ]
  },
  {
   "cell_type": "markdown",
   "id": "70ff8baf-83a9-43c2-8a4d-187c07c18938",
   "metadata": {},
   "source": [
    "### Check polarity and number of sentences"
   ]
  },
  {
   "cell_type": "code",
   "execution_count": null,
   "id": "e8cb2df7-b5a1-4c59-935a-90c3cd2a8e62",
   "metadata": {},
   "outputs": [
    {
     "name": "stdout",
     "output_type": "stream",
     "text": [
      "Polarity Score of the Aritcle:   0.13759259259259254\n",
      "Number of Sentences in Article:   137\n"
     ]
    }
   ],
   "source": [
    "import pickle\n",
    "import spacy\n",
    "from bs4 import BeautifulSoup\n",
    "from spacytextblob.spacytextblob import SpacyTextBlob\n",
    "\n",
    "with open('MTGBlog.pkl', 'rb') as f:\n",
    "    htmldoc = pickle.load(f)\n",
    "soup=BeautifulSoup(htmldoc,'html5lib')\n",
    "\n",
    "text=soup.find(\"article\")    \n",
    "nlp = spacy.load('en_core_web_sm')\n",
    "nlp.add_pipe('spacytextblob')\n",
    "doc=nlp(text.get_text())\n",
    "print(\"Polarity Score of the Aritcle:  \", doc._.blob.polarity)\n",
    "i=0\n",
    "for sentence in list(doc.sents) :\n",
    "    i+=1\n",
    "print(\"Number of Sentences in Article:  \",i)"
   ]
  },
  {
   "cell_type": "markdown",
   "id": "ad1b33c8-4926-4627-a0ff-db31af44122e",
   "metadata": {},
   "source": [
    "### Find Important Words (BY Lemma) and Show Frequency in Sentences"
   ]
  },
  {
   "cell_type": "code",
   "execution_count": 14,
   "id": "cf59d1fc-8393-41ed-bb59-3dd57d4d922a",
   "metadata": {},
   "outputs": [
    {
     "name": "stdout",
     "output_type": "stream",
     "text": [
      "{'edition', '30th', 'set', 'anniversary', 'card'}\n"
     ]
    },
    {
     "data": {
      "text/plain": [
       "[Text(0.5, 0, 'LemmaScores'),\n",
       " Text(0, 0.5, 'Frequency'),\n",
       " Text(0.5, 1.0, 'Lemma Score histogram')]"
      ]
     },
     "execution_count": 14,
     "metadata": {},
     "output_type": "execute_result"
    },
    {
     "data": {
      "image/png": "[encoded data removed]",
      "text/plain": [
       "<Figure size 640x480 with 1 Axes>"
      ]
     },
     "metadata": {},
     "output_type": "display_data"
    }
   ],
   "source": [
    "import spacy\n",
    "from spacytextblob.spacytextblob import SpacyTextBlob\n",
    "import pickle\n",
    "from bs4 import BeautifulSoup\n",
    "from collections import Counter\n",
    "with open ('MTGBlog.pkl','rb') as f:\n",
    "    htmldoc=pickle.load(f)\n",
    "soup=BeautifulSoup(htmldoc,'html5lib')\n",
    "text=soup.find('article')\n",
    "nlp = spacy.load('en_core_web_sm')\n",
    "nlp.add_pipe('spacytextblob')\n",
    "doc=nlp(text.get_text())\n",
    "def important_words(token):\n",
    "    return not (token.is_space or token.is_punct or token.is_stop)\n",
    "important_tokens = [token for token in doc if important_words(token)]\n",
    "token_freq=Counter(map(str,important_tokens))\n",
    "important_tokens = set()\n",
    "for token, freq in token_freq.most_common(5):\n",
    "    important_tokens.add(token)\n",
    "\n",
    "important_lemmas=[token.lemma_.lower() for token in doc if important_words(token)]\n",
    "\n",
    "lemma_freq=Counter(important_lemmas)\n",
    "\n",
    "important_lemmas = set()\n",
    "for lemma, freq in lemma_freq.most_common(5):\n",
    "    important_lemmas.add(lemma)\n",
    "print(important_lemmas)\n",
    "\n",
    "def score_sentence_by_token(sentence1, interesting_token):\n",
    "    count = 0\n",
    "    count2 = 1\n",
    "    for token in sentence1:\n",
    "        if token.text.lower() in interesting_token:\n",
    "            count +=1\n",
    "    for token in sentence1:\n",
    "        if not(token.is_space or token.is_punct):\n",
    "            count2 += 1\n",
    "    return count/count2\n",
    "\n",
    "\n",
    "def score_sentence_by_lemma(sentence1, interesting_lemmas):\n",
    "    count=0\n",
    "    count2=1\n",
    "    for token in sentence1:\n",
    "        if token.lemma_.lower()in interesting_lemmas:\n",
    "            count+=1\n",
    "        if not(token.is_space or token.is_punct):\n",
    "            count2 += 1\n",
    "    return count/count2\n",
    "\n",
    "List_of_lemma_scores=[]\n",
    "sentence_numbers=[]\n",
    "for i in doc.sents:\n",
    "    List_of_lemma_scores.append(score_sentence_by_lemma(i,important_lemmas))\n",
    "import matplotlib as mpl\n",
    "import matplotlib.pyplot as plt\n",
    "import numpy as np\n",
    "fig, ax=plt.subplots()\n",
    "ax.hist(List_of_lemma_scores,bins=20)\n",
    "labels=ax.get_xticklabels()\n",
    "ax.set(xlabel='LemmaScores',ylabel='Frequency',title='Lemma Score histogram')"
   ]
  },
  {
   "cell_type": "markdown",
   "id": "dcef7618-6f33-4e85-a46d-8e746d2f0010",
   "metadata": {},
   "source": [
    "### Summarizer"
   ]
  },
  {
   "cell_type": "code",
   "execution_count": 15,
   "id": "069b0f1d-9be4-4db5-b090-87056f4179d7",
   "metadata": {},
   "outputs": [
    {
     "name": "stdout",
     "output_type": "stream",
     "text": [
      "Are you excited for Magic’s 30th Anniversary Edition?  But is 30th Anniversary Edition really that bad?  30th Anniversary Edition Draftable?How Can You Practice Drafting the Set (for Free)?Wrap Up  30th Anniversary Edition  What’s the Price of 30th Anniversary Edition?  Four packs of 30th Anniversary Edition cost $999.  Is 30th Anniversary Edition Tournament Legal?  Is 30th Anniversary Edition Draftable?  Yes, 30th Anniversary Edition is draftable in theory!  Enable Bootstrap Tooltips\n",
      "                        $('[data-toggle=\"tooltip\"]').tooltip();\n",
      "\n",
      "                    });\n",
      "                \n",
      "MTG MTG 30th anniversary MTG 30th anniversary edition MTG 30th anniversary edition recommendation MTG 30th anniversary edition review MTG 30th anniversary promos MTG cards MTG collection MTG product review MTG products\n",
      "\n",
      "  \n",
      "\n",
      " Bryan Hohns (Veveil)\n"
     ]
    }
   ],
   "source": [
    "import spacy\n",
    "from spacytextblob.spacytextblob import SpacyTextBlob\n",
    "import pickle\n",
    "from bs4 import BeautifulSoup\n",
    "from collections import Counter\n",
    "#open MTGBlog pickle file and create readable doc for spacy\n",
    "with open ('MTGBlog.pkl','rb') as f:\n",
    "    htmldoc=pickle.load(f)\n",
    "soup=BeautifulSoup(htmldoc,'html5lib')\n",
    "text=soup.find('article')\n",
    "nlp = spacy.load('en_core_web_sm')\n",
    "nlp.add_pipe('spacytextblob')\n",
    "doc=nlp(text.get_text())\n",
    "\n",
    "\n",
    "def summarizer_lemma(doc):\n",
    "    #define important words for spacy\n",
    "    def important_words(token):\n",
    "        return not (token.is_space or token.is_punct or token.is_stop)\n",
    "    important_lemmas=[token.lemma_.lower() for token in doc if important_words(token)]\n",
    "\n",
    "    lemma_freq=Counter(important_lemmas)\n",
    "\n",
    "    important_lemmas = set()\n",
    "    for lemma, freq in lemma_freq.most_common(5):\n",
    "        important_lemmas.add(lemma)\n",
    "    \n",
    "    #Score Sentence Function by token\n",
    "    def score_sentence_by_lemma(sentence1, interesting_lemmas):\n",
    "        count=0\n",
    "        count2=1\n",
    "        for token in sentence1:\n",
    "            if token.lemma_.lower()in interesting_lemmas:\n",
    "                count+=1\n",
    "            if not(token.is_space or token.is_punct):\n",
    "                count2 += 1\n",
    "        return count/count2\n",
    "    #create empty list for sentences\n",
    "    important_sent=[]\n",
    "    #break article into sentences\n",
    "    sentences = list(doc.sents)\n",
    "    for sent in sentences:\n",
    "        if score_sentence_by_token(sent,important_lemmas) >= .28:\n",
    "            important_sent.append(sent.text.strip())\n",
    "    print('  '.join(important_sent))\n",
    "\n",
    "summarizer_lemma(doc)"
   ]
  },
  {
   "cell_type": "code",
   "execution_count": null,
   "id": "1be5a1ab-103a-4ec6-90f7-8f21e833f6ca",
   "metadata": {},
   "outputs": [],
   "source": []
  }
 ],
 "metadata": {
  "kernelspec": {
   "display_name": "Python 3 (ipykernel)",
   "language": "python",
   "name": "python3"
  },
  "language_info": {
   "codemirror_mode": {
    "name": "ipython",
    "version": 3
   },
   "file_extension": ".py",
   "mimetype": "text/x-python",
   "name": "python",
   "nbconvert_exporter": "python",
   "pygments_lexer": "ipython3",
   "version": "3.9.16"
  }
 },
 "nbformat": 4,
 "nbformat_minor": 5
}
